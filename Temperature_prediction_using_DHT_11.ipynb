{
  "nbformat": 4,
  "nbformat_minor": 0,
  "metadata": {
    "colab": {
      "provenance": [],
      "authorship_tag": "ABX9TyPa7aKx73rNvbnGG7j2KFYV",
      "include_colab_link": true
    },
    "kernelspec": {
      "name": "python3",
      "display_name": "Python 3"
    },
    "language_info": {
      "name": "python"
    }
  },
  "cells": [
    {
      "cell_type": "markdown",
      "metadata": {
        "id": "view-in-github",
        "colab_type": "text"
      },
      "source": [
        "<a href=\"https://colab.research.google.com/github/BharathRagavan21/Temperature-analysis-and-prediction-using-DHT-11/blob/main/Temperature_prediction_using_DHT_11.ipynb\" target=\"_parent\"><img src=\"https://colab.research.google.com/assets/colab-badge.svg\" alt=\"Open In Colab\"/></a>"
      ]
    },
    {
      "cell_type": "code",
      "execution_count": null,
      "metadata": {
        "id": "8J9O352e9uIq"
      },
      "outputs": [],
      "source": [
        "import os\n",
        "import json\n",
        "import pandas as pd\n",
        "import numpy as np\n",
        "import matplotlib.pyplot as plt\n",
        "import seaborn as sns\n",
        "from statsmodels.tsa.api import SARIMAX\n",
        "from sklearn.metrics import mean_squared_error\n",
        "from datetime import timedelta"
      ]
    },
    {
      "cell_type": "code",
      "source": [
        "# Load sensor data and OpenWeather data into DataFrames\n",
        "df_alerts = pd.read_csv(\"alerts.csv\")\n",
        "df_alerts.head()"
      ],
      "metadata": {
        "colab": {
          "base_uri": "https://localhost:8080/",
          "height": 399
        },
        "id": "lnIcr978N3ZF",
        "outputId": "4af7fc67-393b-46f5-cf65-b52b8852d3f9"
      },
      "execution_count": null,
      "outputs": [
        {
          "output_type": "execute_result",
          "data": {
            "text/plain": [
              "                created_at  entry_id  field1  field2 field3  field4  field5  \\\n",
              "0  2023-09-11 11:39:22 UTC        83    24.1   400.0   mist  303.69       1   \n",
              "1  2023-09-11 11:43:55 UTC        84   396.0     1.0   mist  303.69       1   \n",
              "2  2023-09-11 12:01:31 UTC        85   387.0     1.0   mist  303.69       1   \n",
              "3  2023-09-11 12:01:54 UTC        86    26.2   387.0   mist  303.69       1   \n",
              "4  2023-09-11 12:02:13 UTC        87    26.1   387.0   mist  303.69       1   \n",
              "\n",
              "    field6  field7   field8  \n",
              "0  99690.0    51.0     59.0  \n",
              "1     49.0    25.4  99584.0  \n",
              "2     50.0    26.4  97986.0  \n",
              "3  98048.0    51.0     45.0  \n",
              "4  98118.0    50.0     56.0  "
            ],
            "text/html": [
              "\n",
              "  <div id=\"df-2c379255-d5b5-4bd8-adab-191713ad1f7d\" class=\"colab-df-container\">\n",
              "    <div>\n",
              "<style scoped>\n",
              "    .dataframe tbody tr th:only-of-type {\n",
              "        vertical-align: middle;\n",
              "    }\n",
              "\n",
              "    .dataframe tbody tr th {\n",
              "        vertical-align: top;\n",
              "    }\n",
              "\n",
              "    .dataframe thead th {\n",
              "        text-align: right;\n",
              "    }\n",
              "</style>\n",
              "<table border=\"1\" class=\"dataframe\">\n",
              "  <thead>\n",
              "    <tr style=\"text-align: right;\">\n",
              "      <th></th>\n",
              "      <th>created_at</th>\n",
              "      <th>entry_id</th>\n",
              "      <th>field1</th>\n",
              "      <th>field2</th>\n",
              "      <th>field3</th>\n",
              "      <th>field4</th>\n",
              "      <th>field5</th>\n",
              "      <th>field6</th>\n",
              "      <th>field7</th>\n",
              "      <th>field8</th>\n",
              "    </tr>\n",
              "  </thead>\n",
              "  <tbody>\n",
              "    <tr>\n",
              "      <th>0</th>\n",
              "      <td>2023-09-11 11:39:22 UTC</td>\n",
              "      <td>83</td>\n",
              "      <td>24.1</td>\n",
              "      <td>400.0</td>\n",
              "      <td>mist</td>\n",
              "      <td>303.69</td>\n",
              "      <td>1</td>\n",
              "      <td>99690.0</td>\n",
              "      <td>51.0</td>\n",
              "      <td>59.0</td>\n",
              "    </tr>\n",
              "    <tr>\n",
              "      <th>1</th>\n",
              "      <td>2023-09-11 11:43:55 UTC</td>\n",
              "      <td>84</td>\n",
              "      <td>396.0</td>\n",
              "      <td>1.0</td>\n",
              "      <td>mist</td>\n",
              "      <td>303.69</td>\n",
              "      <td>1</td>\n",
              "      <td>49.0</td>\n",
              "      <td>25.4</td>\n",
              "      <td>99584.0</td>\n",
              "    </tr>\n",
              "    <tr>\n",
              "      <th>2</th>\n",
              "      <td>2023-09-11 12:01:31 UTC</td>\n",
              "      <td>85</td>\n",
              "      <td>387.0</td>\n",
              "      <td>1.0</td>\n",
              "      <td>mist</td>\n",
              "      <td>303.69</td>\n",
              "      <td>1</td>\n",
              "      <td>50.0</td>\n",
              "      <td>26.4</td>\n",
              "      <td>97986.0</td>\n",
              "    </tr>\n",
              "    <tr>\n",
              "      <th>3</th>\n",
              "      <td>2023-09-11 12:01:54 UTC</td>\n",
              "      <td>86</td>\n",
              "      <td>26.2</td>\n",
              "      <td>387.0</td>\n",
              "      <td>mist</td>\n",
              "      <td>303.69</td>\n",
              "      <td>1</td>\n",
              "      <td>98048.0</td>\n",
              "      <td>51.0</td>\n",
              "      <td>45.0</td>\n",
              "    </tr>\n",
              "    <tr>\n",
              "      <th>4</th>\n",
              "      <td>2023-09-11 12:02:13 UTC</td>\n",
              "      <td>87</td>\n",
              "      <td>26.1</td>\n",
              "      <td>387.0</td>\n",
              "      <td>mist</td>\n",
              "      <td>303.69</td>\n",
              "      <td>1</td>\n",
              "      <td>98118.0</td>\n",
              "      <td>50.0</td>\n",
              "      <td>56.0</td>\n",
              "    </tr>\n",
              "  </tbody>\n",
              "</table>\n",
              "</div>\n",
              "    <div class=\"colab-df-buttons\">\n",
              "\n",
              "  <div class=\"colab-df-container\">\n",
              "    <button class=\"colab-df-convert\" onclick=\"convertToInteractive('df-2c379255-d5b5-4bd8-adab-191713ad1f7d')\"\n",
              "            title=\"Convert this dataframe to an interactive table.\"\n",
              "            style=\"display:none;\">\n",
              "\n",
              "  <svg xmlns=\"http://www.w3.org/2000/svg\" height=\"24px\" viewBox=\"0 -960 960 960\">\n",
              "    <path d=\"M120-120v-720h720v720H120Zm60-500h600v-160H180v160Zm220 220h160v-160H400v160Zm0 220h160v-160H400v160ZM180-400h160v-160H180v160Zm440 0h160v-160H620v160ZM180-180h160v-160H180v160Zm440 0h160v-160H620v160Z\"/>\n",
              "  </svg>\n",
              "    </button>\n",
              "\n",
              "  <style>\n",
              "    .colab-df-container {\n",
              "      display:flex;\n",
              "      gap: 12px;\n",
              "    }\n",
              "\n",
              "    .colab-df-convert {\n",
              "      background-color: #E8F0FE;\n",
              "      border: none;\n",
              "      border-radius: 50%;\n",
              "      cursor: pointer;\n",
              "      display: none;\n",
              "      fill: #1967D2;\n",
              "      height: 32px;\n",
              "      padding: 0 0 0 0;\n",
              "      width: 32px;\n",
              "    }\n",
              "\n",
              "    .colab-df-convert:hover {\n",
              "      background-color: #E2EBFA;\n",
              "      box-shadow: 0px 1px 2px rgba(60, 64, 67, 0.3), 0px 1px 3px 1px rgba(60, 64, 67, 0.15);\n",
              "      fill: #174EA6;\n",
              "    }\n",
              "\n",
              "    .colab-df-buttons div {\n",
              "      margin-bottom: 4px;\n",
              "    }\n",
              "\n",
              "    [theme=dark] .colab-df-convert {\n",
              "      background-color: #3B4455;\n",
              "      fill: #D2E3FC;\n",
              "    }\n",
              "\n",
              "    [theme=dark] .colab-df-convert:hover {\n",
              "      background-color: #434B5C;\n",
              "      box-shadow: 0px 1px 3px 1px rgba(0, 0, 0, 0.15);\n",
              "      filter: drop-shadow(0px 1px 2px rgba(0, 0, 0, 0.3));\n",
              "      fill: #FFFFFF;\n",
              "    }\n",
              "  </style>\n",
              "\n",
              "    <script>\n",
              "      const buttonEl =\n",
              "        document.querySelector('#df-2c379255-d5b5-4bd8-adab-191713ad1f7d button.colab-df-convert');\n",
              "      buttonEl.style.display =\n",
              "        google.colab.kernel.accessAllowed ? 'block' : 'none';\n",
              "\n",
              "      async function convertToInteractive(key) {\n",
              "        const element = document.querySelector('#df-2c379255-d5b5-4bd8-adab-191713ad1f7d');\n",
              "        const dataTable =\n",
              "          await google.colab.kernel.invokeFunction('convertToInteractive',\n",
              "                                                    [key], {});\n",
              "        if (!dataTable) return;\n",
              "\n",
              "        const docLinkHtml = 'Like what you see? Visit the ' +\n",
              "          '<a target=\"_blank\" href=https://colab.research.google.com/notebooks/data_table.ipynb>data table notebook</a>'\n",
              "          + ' to learn more about interactive tables.';\n",
              "        element.innerHTML = '';\n",
              "        dataTable['output_type'] = 'display_data';\n",
              "        await google.colab.output.renderOutput(dataTable, element);\n",
              "        const docLink = document.createElement('div');\n",
              "        docLink.innerHTML = docLinkHtml;\n",
              "        element.appendChild(docLink);\n",
              "      }\n",
              "    </script>\n",
              "  </div>\n",
              "\n",
              "\n",
              "<div id=\"df-35a7990e-1d9a-4d00-98f3-b7f5ec5c1143\">\n",
              "  <button class=\"colab-df-quickchart\" onclick=\"quickchart('df-35a7990e-1d9a-4d00-98f3-b7f5ec5c1143')\"\n",
              "            title=\"Suggest charts.\"\n",
              "            style=\"display:none;\">\n",
              "\n",
              "<svg xmlns=\"http://www.w3.org/2000/svg\" height=\"24px\"viewBox=\"0 0 24 24\"\n",
              "     width=\"24px\">\n",
              "    <g>\n",
              "        <path d=\"M19 3H5c-1.1 0-2 .9-2 2v14c0 1.1.9 2 2 2h14c1.1 0 2-.9 2-2V5c0-1.1-.9-2-2-2zM9 17H7v-7h2v7zm4 0h-2V7h2v10zm4 0h-2v-4h2v4z\"/>\n",
              "    </g>\n",
              "</svg>\n",
              "  </button>\n",
              "\n",
              "<style>\n",
              "  .colab-df-quickchart {\n",
              "      --bg-color: #E8F0FE;\n",
              "      --fill-color: #1967D2;\n",
              "      --hover-bg-color: #E2EBFA;\n",
              "      --hover-fill-color: #174EA6;\n",
              "      --disabled-fill-color: #AAA;\n",
              "      --disabled-bg-color: #DDD;\n",
              "  }\n",
              "\n",
              "  [theme=dark] .colab-df-quickchart {\n",
              "      --bg-color: #3B4455;\n",
              "      --fill-color: #D2E3FC;\n",
              "      --hover-bg-color: #434B5C;\n",
              "      --hover-fill-color: #FFFFFF;\n",
              "      --disabled-bg-color: #3B4455;\n",
              "      --disabled-fill-color: #666;\n",
              "  }\n",
              "\n",
              "  .colab-df-quickchart {\n",
              "    background-color: var(--bg-color);\n",
              "    border: none;\n",
              "    border-radius: 50%;\n",
              "    cursor: pointer;\n",
              "    display: none;\n",
              "    fill: var(--fill-color);\n",
              "    height: 32px;\n",
              "    padding: 0;\n",
              "    width: 32px;\n",
              "  }\n",
              "\n",
              "  .colab-df-quickchart:hover {\n",
              "    background-color: var(--hover-bg-color);\n",
              "    box-shadow: 0 1px 2px rgba(60, 64, 67, 0.3), 0 1px 3px 1px rgba(60, 64, 67, 0.15);\n",
              "    fill: var(--button-hover-fill-color);\n",
              "  }\n",
              "\n",
              "  .colab-df-quickchart-complete:disabled,\n",
              "  .colab-df-quickchart-complete:disabled:hover {\n",
              "    background-color: var(--disabled-bg-color);\n",
              "    fill: var(--disabled-fill-color);\n",
              "    box-shadow: none;\n",
              "  }\n",
              "\n",
              "  .colab-df-spinner {\n",
              "    border: 2px solid var(--fill-color);\n",
              "    border-color: transparent;\n",
              "    border-bottom-color: var(--fill-color);\n",
              "    animation:\n",
              "      spin 1s steps(1) infinite;\n",
              "  }\n",
              "\n",
              "  @keyframes spin {\n",
              "    0% {\n",
              "      border-color: transparent;\n",
              "      border-bottom-color: var(--fill-color);\n",
              "      border-left-color: var(--fill-color);\n",
              "    }\n",
              "    20% {\n",
              "      border-color: transparent;\n",
              "      border-left-color: var(--fill-color);\n",
              "      border-top-color: var(--fill-color);\n",
              "    }\n",
              "    30% {\n",
              "      border-color: transparent;\n",
              "      border-left-color: var(--fill-color);\n",
              "      border-top-color: var(--fill-color);\n",
              "      border-right-color: var(--fill-color);\n",
              "    }\n",
              "    40% {\n",
              "      border-color: transparent;\n",
              "      border-right-color: var(--fill-color);\n",
              "      border-top-color: var(--fill-color);\n",
              "    }\n",
              "    60% {\n",
              "      border-color: transparent;\n",
              "      border-right-color: var(--fill-color);\n",
              "    }\n",
              "    80% {\n",
              "      border-color: transparent;\n",
              "      border-right-color: var(--fill-color);\n",
              "      border-bottom-color: var(--fill-color);\n",
              "    }\n",
              "    90% {\n",
              "      border-color: transparent;\n",
              "      border-bottom-color: var(--fill-color);\n",
              "    }\n",
              "  }\n",
              "</style>\n",
              "\n",
              "  <script>\n",
              "    async function quickchart(key) {\n",
              "      const quickchartButtonEl =\n",
              "        document.querySelector('#' + key + ' button');\n",
              "      quickchartButtonEl.disabled = true;  // To prevent multiple clicks.\n",
              "      quickchartButtonEl.classList.add('colab-df-spinner');\n",
              "      try {\n",
              "        const charts = await google.colab.kernel.invokeFunction(\n",
              "            'suggestCharts', [key], {});\n",
              "      } catch (error) {\n",
              "        console.error('Error during call to suggestCharts:', error);\n",
              "      }\n",
              "      quickchartButtonEl.classList.remove('colab-df-spinner');\n",
              "      quickchartButtonEl.classList.add('colab-df-quickchart-complete');\n",
              "    }\n",
              "    (() => {\n",
              "      let quickchartButtonEl =\n",
              "        document.querySelector('#df-35a7990e-1d9a-4d00-98f3-b7f5ec5c1143 button');\n",
              "      quickchartButtonEl.style.display =\n",
              "        google.colab.kernel.accessAllowed ? 'block' : 'none';\n",
              "    })();\n",
              "  </script>\n",
              "</div>\n",
              "    </div>\n",
              "  </div>\n"
            ]
          },
          "metadata": {},
          "execution_count": 104
        }
      ]
    },
    {
      "cell_type": "code",
      "source": [
        "# Example data cleaning: Convert temperature from Kelvin to Celsius\n",
        "print(df_alerts.columns)\n",
        "df_alerts['field4'] = df_alerts['field4'] - 273.15\n",
        "df_alerts.rename(columns={\"field4\": \"OpenWeather_Temperature\"}, inplace=True)\n",
        "df_alerts['field2'] = df_alerts['field2'] - 273.15\n",
        "df_alerts.rename(columns={\"field2\": \"Sensor_Temperature\"}, inplace=True)"
      ],
      "metadata": {
        "colab": {
          "base_uri": "https://localhost:8080/"
        },
        "id": "_dvSSZZg-lZg",
        "outputId": "8512468e-8762-421f-97a3-fb3c344d65ee"
      },
      "execution_count": null,
      "outputs": [
        {
          "output_type": "stream",
          "name": "stdout",
          "text": [
            "Index(['created_at', 'entry_id', 'field1', 'field2', 'field3', 'field4',\n",
            "       'field5', 'field6', 'field7', 'field8'],\n",
            "      dtype='object')\n"
          ]
        }
      ]
    },
    {
      "cell_type": "code",
      "source": [
        "# Choose a suitable time series forecasting model (SARIMA in this example)\n",
        "order = (1, 1, 1)  # Replace with appropriate SARIMA order\n",
        "seasonal_order = (1, 1, 1, 24)  # Replace with appropriate seasonal order\n",
        "model = SARIMAX(train['Temperature'], order=order, seasonal_order=seasonal_order)\n",
        "results = model.fit()"
      ],
      "metadata": {
        "colab": {
          "base_uri": "https://localhost:8080/"
        },
        "id": "ifvrpXeAIZY_",
        "outputId": "d7bb0cba-f259-487c-9370-fc94dc0023e7"
      },
      "execution_count": null,
      "outputs": [
        {
          "output_type": "stream",
          "name": "stderr",
          "text": [
            "/usr/local/lib/python3.10/dist-packages/statsmodels/tsa/base/tsa_model.py:473: ValueWarning: A date index has been provided, but it has no associated frequency information and so will be ignored when e.g. forecasting.\n",
            "  self._init_dates(dates, freq)\n",
            "/usr/local/lib/python3.10/dist-packages/statsmodels/tsa/base/tsa_model.py:473: ValueWarning: A date index has been provided, but it has no associated frequency information and so will be ignored when e.g. forecasting.\n",
            "  self._init_dates(dates, freq)\n",
            "/usr/local/lib/python3.10/dist-packages/statsmodels/tsa/statespace/sarimax.py:866: UserWarning: Too few observations to estimate starting parameters for seasonal ARMA. All parameters except for variances will be set to zeros.\n",
            "  warn('Too few observations to estimate starting parameters%s.'\n"
          ]
        }
      ]
    },
    {
      "cell_type": "code",
      "source": [
        "# Assuming 'created_at' is the timestamp in df_auto, and it's in the same format as in df_alerts\n",
        "df_alerts['created_at'] = pd.to_datetime(df_alerts['created_at'])\n",
        "# Merge the DataFrames based on the common timestamp ('created_at')\n",
        "merged_df = pd.merge(df_alerts, df_alerts, left_on=\"created_at\", right_on=\"created_at\", how=\"inner\")"
      ],
      "metadata": {
        "id": "7cISj2ZmMTXp"
      },
      "execution_count": null,
      "outputs": []
    },
    {
      "cell_type": "code",
      "source": [
        "# Make predictions for the next 1 hour\n",
        "forecast_steps = 12\n",
        "forecast = results.get_forecast(steps=forecast_steps)\n",
        "forecast_mean = forecast.predicted_mean\n",
        "\n",
        "# Print the forecasted temperature for the next 1 hour\n",
        "print(\"Forecasted Temperature for the Next Hour:\")\n",
        "print(forecast_mean)"
      ],
      "metadata": {
        "colab": {
          "base_uri": "https://localhost:8080/"
        },
        "id": "i200JG4nIgS3",
        "outputId": "c4040076-5720-4794-f35e-436b9451cb41"
      },
      "execution_count": null,
      "outputs": [
        {
          "output_type": "stream",
          "name": "stdout",
          "text": [
            "Forecasted Temperature for the Next Hour:\n",
            "80   -242.61\n",
            "81   -242.61\n",
            "82   -242.61\n",
            "83   -242.61\n",
            "84   -242.61\n",
            "85   -242.61\n",
            "86   -242.61\n",
            "87   -242.61\n",
            "88   -242.61\n",
            "89   -242.61\n",
            "90   -242.61\n",
            "91   -242.61\n",
            "Name: predicted_mean, dtype: float64\n"
          ]
        },
        {
          "output_type": "stream",
          "name": "stderr",
          "text": [
            "/usr/local/lib/python3.10/dist-packages/statsmodels/tsa/base/tsa_model.py:836: ValueWarning: No supported index is available. Prediction results will be given with an integer index beginning at `start`.\n",
            "  return get_prediction_index(\n",
            "/usr/local/lib/python3.10/dist-packages/statsmodels/tsa/base/tsa_model.py:836: FutureWarning: No supported index is available. In the next version, calling this method in a model without a supported index will result in an exception.\n",
            "  return get_prediction_index(\n"
          ]
        }
      ]
    },
    {
      "cell_type": "code",
      "source": [
        "# Suggest AC temperature based on forecast (customize as needed)\n",
        "if forecast_mean.values[0] > 25:\n",
        "    ac_temperature = 20  # Suggest a lower AC temperature to cool the room\n",
        "else:\n",
        "    ac_temperature = 25  # Maintain the current temperature\n",
        "\n",
        "print(f\"Suggested AC Temperature: {ac_temperature} °C\")"
      ],
      "metadata": {
        "colab": {
          "base_uri": "https://localhost:8080/"
        },
        "id": "BoWChqWYIwiC",
        "outputId": "99c095ea-0de4-47ca-8c44-213b692b6d79"
      },
      "execution_count": null,
      "outputs": [
        {
          "output_type": "stream",
          "name": "stdout",
          "text": [
            "Suggested AC Temperature: 25 °C\n"
          ]
        }
      ]
    },
    {
      "cell_type": "code",
      "source": [
        "# Data Visualization\n",
        "plt.figure(figsize=(12, 6))\n",
        "plt.plot(df_alerts['created_at'], df_auto['field4'], label='Sensor Temperature', marker='o')\n",
        "plt.xlabel('Timestamp')\n",
        "plt.ylabel('Temperature (°C)')\n",
        "plt.title('Sensor Temperature  vs OpenWeather Temperature')\n",
        "plt.legend()\n",
        "plt.grid(True)\n",
        "plt.show()"
      ],
      "metadata": {
        "colab": {
          "base_uri": "https://localhost:8080/",
          "height": 360
        },
        "id": "Av8j_MQqIzx_",
        "outputId": "51b9603a-b4dc-46aa-d261-ae9d2bd60f20"
      },
      "execution_count": null,
      "outputs": [
        {
          "output_type": "display_data",
          "data": {
            "text/plain": [
              "<Figure size 1200x600 with 1 Axes>"
            ],
            "image/png": "[encoded data removed]"
          },
          "metadata": {}
        }
      ]
    }
  ]
}